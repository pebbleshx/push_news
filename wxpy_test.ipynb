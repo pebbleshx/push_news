{
 "cells": [
  {
   "cell_type": "code",
   "execution_count": 1,
   "metadata": {},
   "outputs": [
    {
     "name": "stdout",
     "output_type": "stream",
     "text": [
      "█\r"
     ]
    }
   ],
   "source": [
    "from wxpy import *"
   ]
  },
  {
   "cell_type": "code",
   "execution_count": 2,
   "metadata": {},
   "outputs": [
    {
     "name": "stderr",
     "output_type": "stream",
     "text": [
      "Getting uuid of QR code.\n",
      "Downloading QR code.\n",
      "Please scan the QR code to log in.\n",
      "Please press confirm on your phone.\n",
      "Loading the contact, this may take a little while.\n",
      "Login successfully as Shi～~～\n"
     ]
    }
   ],
   "source": [
    "bot = Bot()"
   ]
  },
  {
   "cell_type": "code",
   "execution_count": 26,
   "metadata": {},
   "outputs": [
    {
     "data": {
      "text/plain": [
       "[<Friend: Shi～~～>,\n",
       " <Friend: Zhencai An>,\n",
       " <Friend: 为RMB奋斗>,\n",
       " <Friend: Hong Yang>,\n",
       " <Friend: RUNNER>,\n",
       " <Friend: 秋叶>,\n",
       " <Friend: wilson>,\n",
       " <Friend: 吉星高照>,\n",
       " <Friend: 熊飞>,\n",
       " <Friend: 何宏伟>,\n",
       " <Friend: 郭晓锋>,\n",
       " <Friend: kyle尹诗>,\n",
       " <Friend: che faxing>,\n",
       " <Friend: 王*力波>,\n",
       " <Friend: 张文伟（西太湖）>,\n",
       " <Friend: 少亮>,\n",
       " <Friend: A katocard.com充值网客服>,\n",
       " <Friend: Fang>,\n",
       " <Friend: 蟹胖胖>,\n",
       " <Friend: 月儿>,\n",
       " <Friend: Martin>,\n",
       " <Friend: Yan>,\n",
       " <Friend: dhwang>,\n",
       " <Friend: Aofang Shi>,\n",
       " <Friend: cc>,\n",
       " <Friend: Wen Gu>,\n",
       " <Friend: Jacky>,\n",
       " <Friend: Yang Yu>,\n",
       " <Friend: 钟志宏>,\n",
       " <Friend: 泉清>,\n",
       " <Friend: Sunny>,\n",
       " <Friend: Nina Zhou>,\n",
       " <Friend: 陈永真>,\n",
       " <Friend: 羽佳>,\n",
       " <Friend: Xiaojun Wu>,\n",
       " <Friend: 赖蕊>,\n",
       " <Friend: shiweidi>,\n",
       " <Friend: 🍀My Key🍀>,\n",
       " <Friend: Wei Deng>,\n",
       " <Friend: Yongshan>,\n",
       " <Friend: 李晶>,\n",
       " <Friend: 草垛>,\n",
       " <Friend: zhaomingli>,\n",
       " <Friend: 汪东>,\n",
       " <Friend: Yongqing Zhu>,\n",
       " <Friend: Thomas>,\n",
       " <Friend: Ya>,\n",
       " <Friend: 吴敏>,\n",
       " <Friend: Starhub Hxshi>,\n",
       " <Friend: 刘东泉>,\n",
       " <Friend: 江南容颜>,\n",
       " <Friend: Diana Lv 莉莉>,\n",
       " <Friend: Bingbing Liu>,\n",
       " <Friend: Sakeena DS>,\n",
       " <Friend: liuXin>,\n",
       " <Friend: Qingsong Wei>,\n",
       " <Friend: 伟伟>,\n",
       " <Friend: 施超>,\n",
       " <Friend: 流光溢彩的男子>,\n",
       " <Friend: 平淡>,\n",
       " <Friend: Gene>,\n",
       " <Friend: 洋葱>,\n",
       " <Friend: 谭达>,\n",
       " <Friend: 麦麦妞>,\n",
       " <Friend: LiuXY>,\n",
       " <Friend: lei lei>,\n",
       " <Friend: か>,\n",
       " <Friend: 董轶>,\n",
       " <Friend: 太阳>,\n",
       " <Friend: Xiao na >,\n",
       " <Friend: 楚丰>,\n",
       " <Friend: Arvin国际海运专线>,\n",
       " <Friend: 糖糖>,\n",
       " <Friend: MU DEFA😀🍀>,\n",
       " <Friend: 艾静>]"
      ]
     },
     "execution_count": 26,
     "metadata": {},
     "output_type": "execute_result"
    }
   ],
   "source": [
    "bot.friends()"
   ]
  },
  {
   "cell_type": "code",
   "execution_count": 31,
   "metadata": {},
   "outputs": [],
   "source": [
    "my_fren = bot.friends().search('Starhub')[0]"
   ]
  },
  {
   "cell_type": "code",
   "execution_count": 32,
   "metadata": {},
   "outputs": [
    {
     "data": {
      "text/plain": [
       "<Friend: Starhub Hxshi>"
      ]
     },
     "execution_count": 32,
     "metadata": {},
     "output_type": "execute_result"
    }
   ],
   "source": [
    "my_fren"
   ]
  },
  {
   "cell_type": "code",
   "execution_count": 33,
   "metadata": {},
   "outputs": [
    {
     "data": {
      "text/plain": [
       "↪ Starhub Hxshi : hello world! (Text)"
      ]
     },
     "execution_count": 33,
     "metadata": {},
     "output_type": "execute_result"
    }
   ],
   "source": [
    "my_fren.send('hello world!')"
   ]
  },
  {
   "cell_type": "code",
   "execution_count": 37,
   "metadata": {},
   "outputs": [
    {
     "data": {
      "text/plain": [
       "[<Group: 新加坡房屋网>,\n",
       " <Group: 新加坡西电校友>,\n",
       " <Group: 石敖方家>,\n",
       " <Group: DCT>,\n",
       " <Group: 开心一家人>,\n",
       " <Group: LIU QINGDONG羽毛球>,\n",
       " <Group: 前黄中学94(1)班>]"
      ]
     },
     "execution_count": 37,
     "metadata": {},
     "output_type": "execute_result"
    },
    {
     "name": "stdout",
     "output_type": "stream",
     "text": [
      "test_ : Starhub Hxshi invited you to the group chat (Note)\n",
      "test_ › Alex Shi : test (Text)\n"
     ]
    }
   ],
   "source": [
    "bot.groups()"
   ]
  },
  {
   "cell_type": "code",
   "execution_count": 38,
   "metadata": {},
   "outputs": [],
   "source": [
    "@bot.register()\n",
    "def print_other(msg):\n",
    "    print(msg)"
   ]
  },
  {
   "cell_type": "code",
   "execution_count": 40,
   "metadata": {},
   "outputs": [],
   "source": [
    "my_grp = bot.groups().search('test_')[0]"
   ]
  },
  {
   "cell_type": "code",
   "execution_count": 41,
   "metadata": {},
   "outputs": [
    {
     "data": {
      "text/plain": [
       "<Group: test_>"
      ]
     },
     "execution_count": 41,
     "metadata": {},
     "output_type": "execute_result"
    }
   ],
   "source": [
    "my_grp"
   ]
  },
  {
   "cell_type": "code",
   "execution_count": 42,
   "metadata": {},
   "outputs": [
    {
     "data": {
      "text/plain": [
       "↪ test_ : news!!! (Text)"
      ]
     },
     "execution_count": 42,
     "metadata": {},
     "output_type": "execute_result"
    },
    {
     "name": "stdout",
     "output_type": "stream",
     "text": [
      "LIU QINGDONG羽毛球 › 刘庆东 : 规范打球动作 有模有样才有型 (Sharing)\n",
      "LIU QINGDONG羽毛球 › 刘庆东 : 初学者（基础+快速）提高球技！ (Sharing)\n"
     ]
    }
   ],
   "source": [
    "my_grp.send('news!!!')"
   ]
  },
  {
   "cell_type": "code",
   "execution_count": 43,
   "metadata": {},
   "outputs": [
    {
     "data": {
      "text/plain": [
       "'Shi～~～ 共有 75 位微信好友\\n\\n男性: 45 (60.0%)\\n女性: 19 (25.3%)\\n\\nTOP 10 省份\\n江苏: 12 (16.00%)\\n北京: 3 (4.00%)\\n四川: 3 (4.00%)\\n陕西: 2 (2.67%)\\n广东: 2 (2.67%)\\nWales: 1 (1.33%)\\n浙江: 1 (1.33%)\\nWan Chai: 1 (1.33%)\\n上海: 1 (1.33%)\\nVienna: 1 (1.33%)\\n\\nTOP 10 城市\\n常州: 7 (9.33%)\\n无锡: 3 (4.00%)\\n西安: 2 (2.67%)\\n成都: 2 (2.67%)\\nCardiff: 1 (1.33%)\\n苏州: 1 (1.33%)\\n广州: 1 (1.33%)\\n德阳: 1 (1.33%)\\n南京: 1 (1.33%)\\n杭州: 1 (1.33%)\\n\\n'"
      ]
     },
     "execution_count": 43,
     "metadata": {},
     "output_type": "execute_result"
    },
    {
     "name": "stderr",
     "output_type": "stream",
     "text": [
      "LOG OUT!\n"
     ]
    }
   ],
   "source": [
    "bot.friends().stats_text()"
   ]
  },
  {
   "cell_type": "code",
   "execution_count": null,
   "metadata": {
    "collapsed": true
   },
   "outputs": [],
   "source": []
  }
 ],
 "metadata": {
  "kernelspec": {
   "display_name": "Python 3",
   "language": "python",
   "name": "python3"
  },
  "language_info": {
   "codemirror_mode": {
    "name": "ipython",
    "version": 3
   },
   "file_extension": ".py",
   "mimetype": "text/x-python",
   "name": "python",
   "nbconvert_exporter": "python",
   "pygments_lexer": "ipython3",
   "version": "3.6.5"
  }
 },
 "nbformat": 4,
 "nbformat_minor": 2
}
