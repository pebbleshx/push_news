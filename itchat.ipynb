{
 "cells": [
  {
   "cell_type": "code",
   "execution_count": 1,
   "metadata": {},
   "outputs": [
    {
     "name": "stdout",
     "output_type": "stream",
     "text": [
      "█\r"
     ]
    }
   ],
   "source": [
    "import itchat"
   ]
  },
  {
   "cell_type": "code",
   "execution_count": 2,
   "metadata": {},
   "outputs": [
    {
     "name": "stderr",
     "output_type": "stream",
     "text": [
      "Getting uuid of QR code.\n",
      "Downloading QR code.\n",
      "Please scan the QR code to log in.\n",
      "Please press confirm on your phone.\n",
      "Loading the contact, this may take a little while.\n",
      "Login successfully as Shi\n"
     ]
    },
    {
     "data": {
      "text/plain": [
       "<ItchatReturnValue: {'BaseResponse': {'Ret': -1, 'ErrMsg': '', 'RawMsg': ''}, 'MsgID': '', 'LocalID': ''}>"
      ]
     },
     "execution_count": 2,
     "metadata": {},
     "output_type": "execute_result"
    }
   ],
   "source": [
    "itchat.auto_login()\n",
    "\n"
   ]
  },
  {
   "cell_type": "code",
   "execution_count": 5,
   "metadata": {},
   "outputs": [
    {
     "data": {
      "text/plain": [
       "<ItchatReturnValue: {'BaseResponse': {'Ret': 0, 'ErrMsg': '请求成功', 'RawMsg': '请求成功'}, 'MsgID': '5395425502407115298', 'LocalID': '15394406985129'}>"
      ]
     },
     "execution_count": 5,
     "metadata": {},
     "output_type": "execute_result"
    }
   ],
   "source": [
    "itchat.send('Hello, filehelper', toUserName='filehelper')"
   ]
  },
  {
   "cell_type": "code",
   "execution_count": 6,
   "metadata": {},
   "outputs": [
    {
     "data": {
      "text/plain": [
       "<ItchatReturnValue: {'BaseResponse': {'Ret': -1, 'ErrMsg': '', 'RawMsg': ''}, 'MsgID': '', 'LocalID': ''}>"
      ]
     },
     "execution_count": 6,
     "metadata": {},
     "output_type": "execute_result"
    }
   ],
   "source": [
    "itchat.send('Hello, filehelper', toUserName='pusher')"
   ]
  },
  {
   "cell_type": "code",
   "execution_count": 7,
   "metadata": {},
   "outputs": [
    {
     "data": {
      "text/plain": [
       "{'UserName': '@dbb0e0e201f658d6d92c175b4f7afae1',\n",
       " 'City': '',\n",
       " 'DisplayName': '',\n",
       " 'PYQuanPin': '',\n",
       " 'RemarkPYInitial': '',\n",
       " 'Province': '',\n",
       " 'KeyWord': '',\n",
       " 'RemarkName': '',\n",
       " 'PYInitial': '',\n",
       " 'EncryChatRoomId': '',\n",
       " 'Alias': '',\n",
       " 'Signature': 'Don’t worry, be happy.',\n",
       " 'NickName': 'Shi',\n",
       " 'RemarkPYQuanPin': '',\n",
       " 'HeadImgUrl': '/cgi-bin/mmwebwx-bin/webwxgeticon?seq=1713729339&username=@dbb0e0e201f658d6d92c175b4f7afae1&skey=@crypt_39ed9196_21d878821b3a7ad432502539aedf27d7',\n",
       " 'UniFriend': 0,\n",
       " 'Sex': 1,\n",
       " 'AppAccountFlag': 0,\n",
       " 'VerifyFlag': 0,\n",
       " 'ChatRoomId': 0,\n",
       " 'HideInputBarFlag': 0,\n",
       " 'AttrStatus': 0,\n",
       " 'SnsFlag': 49,\n",
       " 'MemberCount': 0,\n",
       " 'OwnerUin': 0,\n",
       " 'ContactFlag': 0,\n",
       " 'Uin': 2908109441,\n",
       " 'StarFriend': 0,\n",
       " 'Statues': 0,\n",
       " 'MemberList': [],\n",
       " 'WebWxPluginSwitch': 0,\n",
       " 'HeadImgFlag': 1}"
      ]
     },
     "execution_count": 7,
     "metadata": {},
     "output_type": "execute_result"
    }
   ],
   "source": [
    "itchat.search_friends()"
   ]
  },
  {
   "cell_type": "code",
   "execution_count": 12,
   "metadata": {},
   "outputs": [],
   "source": [
    "itchat.search_friends(userName='sg_hxshi')"
   ]
  },
  {
   "cell_type": "code",
   "execution_count": 13,
   "metadata": {},
   "outputs": [
    {
     "data": {
      "text/plain": [
       "[{'Uin': 0,\n",
       "  'UserName': '@15a567171fe473cc4073440173dcc03b79460882b6d0ccd4251d5b54be097872',\n",
       "  'NickName': 'pusher',\n",
       "  'HeadImgUrl': '/cgi-bin/mmwebwx-bin/webwxgeticon?seq=676516003&username=@15a567171fe473cc4073440173dcc03b79460882b6d0ccd4251d5b54be097872&skey=@crypt_39ed9196_21d878821b3a7ad432502539aedf27d7',\n",
       "  'ContactFlag': 3,\n",
       "  'MemberCount': 0,\n",
       "  'MemberList': [],\n",
       "  'RemarkName': '',\n",
       "  'HideInputBarFlag': 0,\n",
       "  'Sex': 0,\n",
       "  'Signature': '',\n",
       "  'VerifyFlag': 0,\n",
       "  'OwnerUin': 0,\n",
       "  'PYInitial': 'PUSHER',\n",
       "  'PYQuanPin': 'pusher',\n",
       "  'RemarkPYInitial': '',\n",
       "  'RemarkPYQuanPin': '',\n",
       "  'StarFriend': 0,\n",
       "  'AppAccountFlag': 0,\n",
       "  'Statues': 0,\n",
       "  'AttrStatus': 33558565,\n",
       "  'Province': '',\n",
       "  'City': '',\n",
       "  'Alias': '',\n",
       "  'SnsFlag': 0,\n",
       "  'UniFriend': 0,\n",
       "  'DisplayName': '',\n",
       "  'ChatRoomId': 0,\n",
       "  'KeyWord': '',\n",
       "  'EncryChatRoomId': '',\n",
       "  'IsOwner': 0}]"
      ]
     },
     "execution_count": 13,
     "metadata": {},
     "output_type": "execute_result"
    }
   ],
   "source": [
    "u = itchat.search_friends(name='pusher')"
   ]
  },
  {
   "cell_type": "code",
   "execution_count": 14,
   "metadata": {},
   "outputs": [
    {
     "data": {
      "text/plain": [
       "<ItchatReturnValue: {'BaseResponse': {'Ret': 0, 'ErrMsg': '请求成功', 'RawMsg': '请求成功'}, 'MsgID': '2249636803098418548', 'LocalID': '15394414888049'}>"
      ]
     },
     "execution_count": 14,
     "metadata": {},
     "output_type": "execute_result"
    }
   ],
   "source": [
    "itchat.send('Hello, filehelper', toUserName='@15a567171fe473cc4073440173dcc03b79460882b6d0ccd4251d5b54be097872')"
   ]
  },
  {
   "cell_type": "code",
   "execution_count": null,
   "metadata": {},
   "outputs": [],
   "source": []
  }
 ],
 "metadata": {
  "kernelspec": {
   "display_name": "Python 3",
   "language": "python",
   "name": "python3"
  },
  "language_info": {
   "codemirror_mode": {
    "name": "ipython",
    "version": 3
   },
   "file_extension": ".py",
   "mimetype": "text/x-python",
   "name": "python",
   "nbconvert_exporter": "python",
   "pygments_lexer": "ipython3",
   "version": "3.6.5"
  }
 },
 "nbformat": 4,
 "nbformat_minor": 2
}
